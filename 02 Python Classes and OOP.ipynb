{
 "cells": [
  {
   "cell_type": "markdown",
   "metadata": {},
   "source": [
    "# 02 Python Classes and OOP"
   ]
  },
  {
   "cell_type": "markdown",
   "metadata": {},
   "source": [
    "\n",
    "## 1. Classes"
   ]
  },
  {
   "cell_type": "code",
   "execution_count": null,
   "metadata": {},
   "outputs": [],
   "source": [
    "class Car: #__something__ Dunder\n",
    "    def __init__(self, brand, model):\n",
    "        self.brand = brand\n",
    "        self.model = model\n",
    "    \n",
    "    def info(self):\n",
    "        return f\"{self.brand} {self.model}\""
   ]
  },
  {
   "cell_type": "code",
   "execution_count": null,
   "metadata": {},
   "outputs": [],
   "source": [
    "class Foo:\n",
    "    def __init__(self):\n",
    "        print('Bar')"
   ]
  },
  {
   "cell_type": "code",
   "execution_count": null,
   "metadata": {},
   "outputs": [],
   "source": [
    "foo = Foo()"
   ]
  },
  {
   "cell_type": "code",
   "execution_count": null,
   "metadata": {},
   "outputs": [],
   "source": [
    "my_car = Car(\"Toyota\", \"Corolla\")\n",
    "my_car.info()"
   ]
  },
  {
   "cell_type": "markdown",
   "metadata": {},
   "source": [
    "### 1.1 Inheritance"
   ]
  },
  {
   "cell_type": "code",
   "execution_count": null,
   "metadata": {},
   "outputs": [],
   "source": [
    "class ElectricCar(Car):\n",
    "    def __init__(self, brand, model, battery_capacity):\n",
    "        super().__init__(brand, model)\n",
    "        self.battery_capacity = battery_capacity\n",
    "    \n",
    "    def info(self):\n",
    "        return f\"{super().info()} - Battery: {self.battery_capacity} kWh\""
   ]
  },
  {
   "cell_type": "code",
   "execution_count": null,
   "metadata": {},
   "outputs": [],
   "source": [
    "tesla = ElectricCar(\"Tesla\", \"Model 3\", 75)\n",
    "print(tesla.info())"
   ]
  },
  {
   "cell_type": "markdown",
   "metadata": {},
   "source": [
    "### 1.2 Naming conventions and decorators"
   ]
  },
  {
   "cell_type": "code",
   "execution_count": null,
   "metadata": {},
   "outputs": [],
   "source": [
    "class BankAccount:\n",
    "    def __init__(self, balance):\n",
    "        self._balance = balance  # Protected attribute/member variable/property\n",
    "    \n",
    "    def deposit(self, amount):\n",
    "        if amount > 0:\n",
    "            self._balance += amount\n",
    "        else:\n",
    "            raise ValueError(\"Deposit amount must be positive\")\n",
    "        \n",
    "    def get_balance(self):\n",
    "        return self._balance\n",
    "    \n",
    "    @property\n",
    "    def balance(self):\n",
    "        return self._balance\n",
    "\n",
    "# account = BankAccount(1000)\n",
    "# print(account.my_balance)\n",
    "# # print(account._balance)\n",
    "# account.deposit(500)\n",
    "# print(account.my_balance)\n",
    "# print(account._balance)"
   ]
  },
  {
   "cell_type": "code",
   "execution_count": null,
   "metadata": {},
   "outputs": [],
   "source": [
    "account = BankAccount(100)"
   ]
  },
  {
   "cell_type": "code",
   "execution_count": null,
   "metadata": {},
   "outputs": [],
   "source": [
    "account = BankAccount(100)\n",
    "account_1 = BankAccount(50)\n",
    "account_2 = BankAccount(150)"
   ]
  },
  {
   "cell_type": "code",
   "execution_count": null,
   "metadata": {},
   "outputs": [],
   "source": [
    "account.my_balance"
   ]
  },
  {
   "cell_type": "markdown",
   "metadata": {},
   "source": [
    "## 2. Class examples"
   ]
  },
  {
   "cell_type": "code",
   "execution_count": null,
   "metadata": {},
   "outputs": [],
   "source": [
    "class Character:\n",
    "    def __init__(self, name, health, damage):\n",
    "        self.name = name\n",
    "        self.health = health\n",
    "        self.damage = damage\n",
    "\n",
    "    def attack(self, target):\n",
    "        target.health -= self.damage\n",
    "        print(f\"{self.name} attacks {target.name} for {self.damage} damage!\")\n",
    "\n",
    "class Warrior(Character):\n",
    "    def __init__(self, name):\n",
    "        super().__init__(name, health=100, damage=10)\n",
    "    \n",
    "    def shield_block(self):\n",
    "        print(f\"{self.name} blocks the next attack!\")\n",
    "\n",
    "class Mage(Character):\n",
    "    def __init__(self, name):\n",
    "        super().__init__(name, health=80, damage=15)\n",
    "    \n",
    "    def cast_spell(self, target):\n",
    "        spell_damage = self.damage * 1.5\n",
    "        target.health -= spell_damage\n",
    "        print(f\"{self.name} casts a spell on {target.name} for {spell_damage} damage!\")"
   ]
  },
  {
   "cell_type": "code",
   "execution_count": null,
   "metadata": {},
   "outputs": [],
   "source": [
    "warrior = Warrior(\"Conan\")\n",
    "mage = Mage(\"Gandalf\")\n",
    "\n",
    "warrior.attack(mage)\n",
    "mage.cast_spell(warrior)"
   ]
  },
  {
   "cell_type": "markdown",
   "metadata": {},
   "source": [
    "# Activity"
   ]
  },
  {
   "cell_type": "markdown",
   "metadata": {},
   "source": [
    "## 1. Refactoring\n",
    "\n",
    "Refactor the following codes to make it OOP style."
   ]
  },
  {
   "cell_type": "code",
   "execution_count": null,
   "metadata": {},
   "outputs": [],
   "source": [
    "# Refactor the following code to make it object-oriented.\n",
    "\n",
    "def calculate_total_price(items, quantities, prices):\n",
    "    total = 0\n",
    "    for item, quantity, price in zip(items, quantities, prices):\n",
    "        total += quantity * price\n",
    "    return total\n",
    "\n",
    "items = [\"apple\", \"banana\", \"orange\"]\n",
    "quantities = [2, 3, 1]\n",
    "prices = [0.5, 0.3, 0.7]\n",
    "\n",
    "print(calculate_total_price(items, quantities, prices))"
   ]
  },
  {
   "cell_type": "code",
   "execution_count": null,
   "metadata": {},
   "outputs": [],
   "source": [
    "class Product:\n",
    "\n",
    "\n",
    "product_list = [Product1, Product2, Product3]\n",
    "\n",
    "\n",
    "def calculate_total_price(product_list):"
   ]
  },
  {
   "cell_type": "code",
   "execution_count": null,
   "metadata": {},
   "outputs": [],
   "source": []
  },
  {
   "cell_type": "code",
   "execution_count": null,
   "metadata": {},
   "outputs": [],
   "source": [
    "def create_employee(name, position, salary):\n",
    "    return {\"name\": name, \"position\": position, \"salary\": salary}\n",
    "\n",
    "def give_raise(employee, amount):\n",
    "    employee[\"salary\"] += amount\n",
    "\n",
    "def print_employee_info(employee):\n",
    "    print(f\"Name: {employee['name']}, Position: {employee['position']}, Salary: ${employee['salary']}\")\n",
    "\n",
    "# Usage\n",
    "emp1 = create_employee(\"Alice\", \"Developer\", 75000)\n",
    "give_raise(emp1, 5000)\n",
    "print_employee_info(emp1)"
   ]
  },
  {
   "cell_type": "markdown",
   "metadata": {},
   "source": [
    "## 2. Creating your own classes"
   ]
  },
  {
   "cell_type": "code",
   "execution_count": null,
   "metadata": {},
   "outputs": [],
   "source": [
    "# E-commerce Order Processing:\n",
    "# Create a class that represents an e-commerce order.\n",
    "# Then write a function accepts a list of orders \n",
    "# and returns the total order value after applying \n",
    "# a 10% discount for orders over $1000.\n",
    "\n",
    "# The class should have the following attributes:\n",
    "#   - order_id\n",
    "#   - item_name\n",
    "#   - item_price\n",
    "#   - quantity\n",
    "\n",
    "# Order class\n",
    "\n",
    "import uuid\n",
    "\n",
    "class Order:\n",
    "\n",
    "    def __init__(self, name, price, quantity):\n",
    "\n",
    "        self.order_id = uuid.uuid4()\n",
    "\n",
    "        self._name = name\n",
    "        self._price = price\n",
    "        self._quantity = quantity\n",
    "\n",
    "    @property\n",
    "    def price(self):\n",
    "        return self._price\n",
    "\n",
    "\n",
    "# Put some orders into a list\n",
    "\n",
    "\n",
    "\n",
    "# Write a function to the the total order value\n",
    "\n",
    "def calculate_total_value(orders: list):\n",
    "    pass\n",
    "\n",
    "# Some sample inputs\n",
    "\n",
    "# order1 = Order('shirt', 10, 50)\n",
    "# order2 = Order('pants', 20, 100)\n",
    "# order3 = Order('shoes', 30, 15)"
   ]
  },
  {
   "cell_type": "code",
   "execution_count": null,
   "metadata": {},
   "outputs": [],
   "source": [
    "a = Order(name='shirt', price='10', quantity='5')\n",
    "a.price"
   ]
  },
  {
   "cell_type": "code",
   "execution_count": null,
   "metadata": {},
   "outputs": [],
   "source": [
    "# first_order = Order(name='shirt', price='10', quantity='5')\n",
    "\n",
    "# first_order.info()\n",
    "# Output:\n",
    "#   Order ID: ABC123\n",
    "#   Name: Shirt,\n",
    "#   Price: 10,\n",
    "#   Quantity: 5"
   ]
  },
  {
   "cell_type": "code",
   "execution_count": null,
   "metadata": {},
   "outputs": [],
   "source": [
    "# Inventory Management:\n",
    "# Create two classes: Product and Inventory.\n",
    "# Include methods for adding products, updating stock levels, \n",
    "# and generating a report of items that need reordering \n",
    "# (below a specified threshold).\n",
    "\n",
    "# The class Product might have the following attributes:\n",
    "#   - product_id\n",
    "#   - name\n",
    "#   - price\n",
    "#   - quantity\n",
    "\n",
    "# The class Inventory might have the following attributes:\n",
    "#   - products_list\n",
    "#   - stock_threshold\n",
    "\n",
    "# Product class\n",
    "\n",
    "class Product:\n",
    "\n",
    "    def __init__(self):\n",
    "        pass\n",
    "\n",
    "\n",
    "\n",
    "# Inventory class\n",
    "\n",
    "class Inventory:\n",
    "\n",
    "    def __init__(self):\n",
    "        pass\n",
    "    \n",
    "    def add_product(self):\n",
    "        pass\n",
    "\n",
    "    def update_product_quantity(self):\n",
    "        pass\n",
    "\n",
    "    def generate_report(self):\n",
    "        pass\n",
    "\n"
   ]
  },
  {
   "cell_type": "code",
   "execution_count": null,
   "metadata": {},
   "outputs": [],
   "source": []
  },
  {
   "cell_type": "code",
   "execution_count": null,
   "metadata": {},
   "outputs": [],
   "source": []
  }
 ],
 "metadata": {
  "kernelspec": {
   "display_name": "tutor-an",
   "language": "python",
   "name": "python3"
  },
  "language_info": {
   "codemirror_mode": {
    "name": "ipython",
    "version": 3
   },
   "file_extension": ".py",
   "mimetype": "text/x-python",
   "name": "python",
   "nbconvert_exporter": "python",
   "pygments_lexer": "ipython3",
   "version": "3.11.7"
  }
 },
 "nbformat": 4,
 "nbformat_minor": 2
}
